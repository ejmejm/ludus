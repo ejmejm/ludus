{
 "cells": [
  {
   "cell_type": "code",
   "execution_count": 1,
   "metadata": {},
   "outputs": [],
   "source": [
    "import numpy as np\n",
    "import tensorflow as tf\n",
    "from tensorflow.keras.layers import Input, Dense, Conv2D, MaxPool2D, Flatten\n",
    "import gym\n",
    "from ludus.policies import PPOTrainer\n",
    "from ludus.env import EnvController\n",
    "from ludus.utils import preprocess_atari\n",
    "from ludus.memory import MTMemoryBuffer\n",
    "import copy"
   ]
  },
  {
   "cell_type": "code",
   "execution_count": null,
   "metadata": {},
   "outputs": [],
   "source": [
    "env = gym.make('Breakout-v0') # This instance of the environment is only used\n",
    "                              # to get action dimensions\n",
    "in_shape = [84, 84, 3] # Size of reshaped observations\n",
    "\n",
    "# Creating a conv net for the policy and value estimator\n",
    "obs_op = Input(shape=in_shape)\n",
    "conv1 = Conv2D(16, 8, (4, 4), activation='relu')(obs_op)\n",
    "max_pool1 = MaxPool2D(2, 2)(conv1)\n",
    "conv2 = Conv2D(32, 4, (2, 2), activation='relu')(max_pool1)\n",
    "max_pool2 = MaxPool2D(2, 2)(conv2)\n",
    "dense1 = Dense(256, activation='relu')(max_pool2)\n",
    "flattened = Flatten()(dense1)\n",
    "\n",
    "# Output probability distribution over possible actions\n",
    "act_probs_op = Dense(env.action_space.n, activation='softmax')(flattened)\n",
    "\n",
    "# Output value of observed state\n",
    "value_op = Dense(1)(flattened)\n",
    "\n",
    "# Wrap a Proximal Policy Optimization Trainer on top of the network\n",
    "network = PPOTrainer(obs_op, act_probs_op, value_op, act_type='discrete', ppo_iters=80)"
   ]
  },
  {
   "cell_type": "code",
   "execution_count": null,
   "metadata": {},
   "outputs": [],
   "source": [
    "n_episodes = 10000 # Total episodes of data to collect\n",
    "max_steps = 2048 # Max number of frames per game\n",
    "batch_size = 12 # Smaller = faster, larger = stabler\n",
    "print_freq = 10 # How many training updates between printing progress"
   ]
  },
  {
   "cell_type": "code",
   "execution_count": null,
   "metadata": {},
   "outputs": [],
   "source": [
    "agent_hist = {} # Keeps track of up to 3 previous frames for each agent\n",
    "\n",
    "# Create observation transformation that adds the two last frames on\n",
    "# as two extra dimensions\n",
    "def new_obs_transform(obs, agent_id):\n",
    "    new_frame = preprocess_atari(obs.squeeze()) # First preprocess the new frame\n",
    "    \n",
    "    if agent_id in agent_hist: # Case for a continued episode\n",
    "        agent_hist[agent_id] = agent_hist[agent_id][1:]\n",
    "        agent_hist[agent_id].append(new_frame)\n",
    "    else: # Case for a new episode\n",
    "        agent_hist[agent_id] = [new_frame, new_frame, new_frame]\n",
    "    \n",
    "    # Format the data\n",
    "    arr = np.array(agent_hist[agent_id])\n",
    "    return np.swapaxes(arr, 0, 3).squeeze()\n",
    "\n",
    "############################################################\n",
    "############################################################\n",
    "\n",
    "mtmb = MTMemoryBuffer() # Create a memory buffer to store the episode data\n",
    "\n",
    "# Edit the memory buffer's start_rollout function so that every time\n",
    "# an episode ends, it resets the respective agent's history\n",
    "old_start_rollout = mtmb.start_rollout\n",
    "\n",
    "def new_start_rollout(agent_id):\n",
    "    old_start_rollout(agent_id)\n",
    "    agent_hist.pop(agent_id, None)\n",
    "    \n",
    "mtmb.start_rollout = new_start_rollout"
   ]
  },
  {
   "cell_type": "code",
   "execution_count": null,
   "metadata": {},
   "outputs": [],
   "source": [
    "# Create the environment controller for generating game data\n",
    "ec = EnvController(lambda: gym.make('Breakout-v0'), n_threads=4, memory_buffer=mtmb)\n",
    "# Set the preprocessing function for observations\n",
    "ec.set_obs_transform(new_obs_transform)"
   ]
  },
  {
   "cell_type": "code",
   "execution_count": null,
   "metadata": {},
   "outputs": [],
   "source": [
    "update_rewards = []\n",
    "\n",
    "for i in range(int(n_episodes / batch_size)):\n",
    "    ec.sim_episodes(network, batch_size, max_steps) # Simualate env to generate data\n",
    "    update_rewards.append(ec.get_avg_reward()) # Append rewards to reward tracker list\n",
    "    dat = ec.get_data() # Get all the data gathered\n",
    "    network.train(dat) # Train the network with PPO\n",
    "    if i != 0 and i % print_freq == 0:\n",
    "        print(f'Update #{i}, Avg Reward: {np.mean(update_rewards[-print_freq:])}') # Print an update"
   ]
  },
  {
   "cell_type": "code",
   "execution_count": null,
   "metadata": {
    "scrolled": true
   },
   "outputs": [],
   "source": [
    "ec.render_episodes(network, 5, max_steps) # Render an episode to see the result"
   ]
  },
  {
   "cell_type": "code",
   "execution_count": null,
   "metadata": {},
   "outputs": [],
   "source": [
    "saver = tf.train.Saver()\n",
    "saver.save(network.sess, 'models/breakout_temporal.ckpt')"
   ]
  }
 ],
 "metadata": {
  "kernelspec": {
   "display_name": "Python 3",
   "language": "python",
   "name": "python3"
  },
  "language_info": {
   "codemirror_mode": {
    "name": "ipython",
    "version": 3
   },
   "file_extension": ".py",
   "mimetype": "text/x-python",
   "name": "python",
   "nbconvert_exporter": "python",
   "pygments_lexer": "ipython3",
   "version": "3.6.8"
  }
 },
 "nbformat": 4,
 "nbformat_minor": 2
}

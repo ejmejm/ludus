{
 "cells": [
  {
   "cell_type": "markdown",
   "metadata": {},
   "source": [
    "# PPO Lunar Lander Example\n",
    "\n",
    "### Lunar Lander\n",
    "\n",
    "Train a Gym continuous lunar lander environment using a proximal policy optimization algorithm\n",
    "\n",
    "Because PPO by itself does not explore much, this example will often get stuck in a local minima"
   ]
  },
  {
   "cell_type": "code",
   "execution_count": null,
   "metadata": {},
   "outputs": [],
   "source": [
    "import numpy as np\n",
    "import tensorflow as tf\n",
    "from tensorflow.keras.layers import Input, Dense, Conv2D, MaxPool2D, Flatten\n",
    "import gym\n",
    "from ludus.policies import PPOTrainer\n",
    "from ludus.env import EnvController, make_lunar_lander_c"
   ]
  },
  {
   "cell_type": "code",
   "execution_count": null,
   "metadata": {},
   "outputs": [],
   "source": [
    "env = make_lunar_lander_c() # This instance of the environment is only used\n",
    "                              # to get action dimensions\n",
    "\n",
    "# Creating a conv net for the policy and value estimator\n",
    "obs_op = Input(shape=env.observation_space.shape)\n",
    "dense1 = Dense(32, activation='tanh')(obs_op)\n",
    "dense2 = Dense(32, activation='tanh')(dense1)\n",
    "act_probs_op = Dense(env.action_space.shape[0])(dense2) # Prob dist over possible actions\n",
    "\n",
    "# Output value of observed state\n",
    "vdense1 = Dense(32, activation='tanh')(obs_op)\n",
    "vdense2 = Dense(32, activation='tanh')(vdense1)\n",
    "value_op = Dense(1)(vdense2)\n",
    "\n",
    "# Wrap a Proximal Policy Optimization Trainer on top of the network\n",
    "network = PPOTrainer(obs_op, act_probs_op, value_op, act_type='continuous', ppo_iters=40, entropy_coef=1.)"
   ]
  },
  {
   "cell_type": "code",
   "execution_count": null,
   "metadata": {},
   "outputs": [],
   "source": [
    "n_episodes = 10000 # Total episodes of data to collect\n",
    "max_steps = 400 # Max number of frames per game\n",
    "batch_size = 8 # Smaller = faster, larger = stabler\n",
    "print_freq = 10 # How many training updates between printing progress"
   ]
  },
  {
   "cell_type": "code",
   "execution_count": null,
   "metadata": {},
   "outputs": [],
   "source": [
    "# Create the environment controller for generating game data\n",
    "ec = EnvController(make_lunar_lander_c, n_threads=4)\n",
    "# Set the preprocessing function for observations\n",
    "ec.set_act_transform(lambda x: np.clip(x, -1, 1))"
   ]
  },
  {
   "cell_type": "code",
   "execution_count": null,
   "metadata": {},
   "outputs": [],
   "source": [
    "update_rewards = []\n",
    "\n",
    "for i in range(int(n_episodes / batch_size)):\n",
    "    ec.sim_episodes(network, batch_size, max_steps) # Simualate env to generate data\n",
    "    update_rewards.append(ec.get_avg_reward()) # Append rewards to reward tracker list\n",
    "    dat = ec.get_data() # Get all the data gathered\n",
    "    network.train(dat) # Train the network with PPO\n",
    "    if i != 0 and i % print_freq == 0:\n",
    "        print(f'Update #{i}, Avg Reward: {np.mean(update_rewards[-print_freq:])}') # Print an update"
   ]
  },
  {
   "cell_type": "code",
   "execution_count": null,
   "metadata": {},
   "outputs": [],
   "source": [
    "ec.render_episodes(network, 5, max_steps) # Render an episode to see the result"
   ]
  }
 ],
 "metadata": {
  "kernelspec": {
   "display_name": "Python 3",
   "language": "python",
   "name": "python3"
  },
  "language_info": {
   "codemirror_mode": {
    "name": "ipython",
    "version": 3
   },
   "file_extension": ".py",
   "mimetype": "text/x-python",
   "name": "python",
   "nbconvert_exporter": "python",
   "pygments_lexer": "ipython3",
   "version": "3.6.8"
  }
 },
 "nbformat": 4,
 "nbformat_minor": 2
}
